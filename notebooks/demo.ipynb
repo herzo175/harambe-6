{
 "cells": [
  {
   "cell_type": "code",
   "execution_count": 2,
   "metadata": {},
   "outputs": [
    {
     "name": "stderr",
     "output_type": "stream",
     "text": [
      "Using TensorFlow backend.\n",
      "WARNING:root:Config file not found for environment: None\n",
      "WARNING:root:Config file not found for environment: None\n",
      "/Library/Frameworks/Python.framework/Versions/3.6/lib/python3.6/site-packages/google/auth/_default.py:66: UserWarning: Your application has authenticated using end user credentials from Google Cloud SDK. We recommend that most server applications use service accounts instead. If your application continues to use end user credentials from Cloud SDK, you might receive a \"quota exceeded\" or \"API not enabled\" error. For more information about service accounts, see https://cloud.google.com/docs/authentication/\n",
      "  warnings.warn(_CLOUD_SDK_CREDENTIALS_WARNING)\n",
      "/Library/Frameworks/Python.framework/Versions/3.6/lib/python3.6/site-packages/google/auth/_default.py:66: UserWarning: Your application has authenticated using end user credentials from Google Cloud SDK. We recommend that most server applications use service accounts instead. If your application continues to use end user credentials from Cloud SDK, you might receive a \"quota exceeded\" or \"API not enabled\" error. For more information about service accounts, see https://cloud.google.com/docs/authentication/\n",
      "  warnings.warn(_CLOUD_SDK_CREDENTIALS_WARNING)\n",
      "/Library/Frameworks/Python.framework/Versions/3.6/lib/python3.6/site-packages/google/auth/_default.py:66: UserWarning: Your application has authenticated using end user credentials from Google Cloud SDK. We recommend that most server applications use service accounts instead. If your application continues to use end user credentials from Cloud SDK, you might receive a \"quota exceeded\" or \"API not enabled\" error. For more information about service accounts, see https://cloud.google.com/docs/authentication/\n",
      "  warnings.warn(_CLOUD_SDK_CREDENTIALS_WARNING)\n"
     ]
    },
    {
     "name": "stdout",
     "output_type": "stream",
     "text": [
      "projects/harambe-6/locations/global/keyRings/harambe-6-dev/cryptoKeys/harambe-6-dev-key\n"
     ]
    }
   ],
   "source": [
    "import os\n",
    "\n",
    "import matplotlib.pyplot as plt\n",
    "\n",
    "os.chdir(\"../src\")\n",
    "\n",
    "from predictor import lstm\n",
    "\n",
    "SEQ_LEN=15"
   ]
  },
  {
   "cell_type": "code",
   "execution_count": 3,
   "metadata": {},
   "outputs": [
    {
     "name": "stdout",
     "output_type": "stream",
     "text": [
      "last frame: [['176.4200'], ['177.9500'], ['176.2300'], ['175.6000'], ['175.4400'], ['184.2800'], ['183.0800'], ['186.5100'], ['191.8100'], ['194.8600'], ['193.9500'], ['194.7000'], ['191.5450'], ['192.9000'], ['196.0500'], ['199.6800']]\n",
      "last target frame: ['199.6800']\n"
     ]
    }
   ],
   "source": [
    "# get Microsoft's stock opening prices and create list of 15 day frames\n",
    "times = lstm.get_time_series_daily(\"AAPL\", filters=[\"1. open\"], outputsize=\"full\")\n",
    "# times = lstm.get_time_series_daily(\"MSFT\", filters=[\"4. close\", \"5. volume\"], outputsize=\"full\")\n",
    "# times are returned descending from most recent so should be reversed\n",
    "vectors = lstm.times_to_vectors(times)[::-1]\n",
    "frames = lstm.get_frames(vectors, seq_len=SEQ_LEN, with_target=True) # each frame is 15+1 (trend length + prediction target) vectors\n",
    "\n",
    "print(f\"last frame: {frames[-1]}\")\n",
    "print(f\"last target frame: {frames[-1][-1]}\")"
   ]
  },
  {
   "cell_type": "code",
   "execution_count": 3,
   "metadata": {},
   "outputs": [
    {
     "name": "stdout",
     "output_type": "stream",
     "text": [
      "training sequence 1: [[0.0], [-0.016468962340204896], [-0.028976160313255783], [-0.031970517102383966], [-0.06716572613152128], [-0.10636876655533789], [-0.09561211562823912], [-0.06946907750777376], [-0.0935390993896118], [-0.05280433030058729], [-0.05606357249798455], [-0.0315559138546585], [0.002188183807440014], [0.023747552689162843], [0.017574571000806172]], target: [0.03952550961649215]\n",
      "testing sequence 1: [[0.0], [0.0], [-0.012247958673554438], [0.0012497917013831739], [0.02291284785869019], [0.05032494584235958], [0.060489918346942284], [0.062239626728878505], [0.06336443926012336], [0.07048825195800701], [0.0716547242126313], [0.0833194467588736], [0.10764872521246471], [0.09615064155974018], [0.07302949508415257]], target: [0.08315280786535584]\n"
     ]
    }
   ],
   "source": [
    "# seperate normalized frames into training and testing data\n",
    "train, test = lstm.partition_data(frames, partition_coefficient=0.8)\n",
    "# split training and testing data into sequences and their targets\n",
    "train_x, train_y = lstm.seperate_xy(lstm.normalize_frames(train))\n",
    "# train_y = [[target[0]] for target in train_y]\n",
    "\n",
    "test_x, test_y = lstm.seperate_xy(lstm.normalize_frames(test))\n",
    "# test_y = [[target[0]] for target in test_y]\n",
    "\n",
    "print(f\"training sequence 1: {train_x[0]}, target: {train_y[0]}\")\n",
    "print(f\"testing sequence 1: {test_x[0]}, target: {test_y[0]}\")"
   ]
  },
  {
   "cell_type": "code",
   "execution_count": 10,
   "metadata": {
    "scrolled": false
   },
   "outputs": [
    {
     "name": "stdout",
     "output_type": "stream",
     "text": [
      "<keras.engine.sequential.Sequential object at 0x1441b8f98>\n"
     ]
    }
   ],
   "source": [
    "# create LSTM model using the training data\n",
    "MODEL_FILE='demo.h5'\n",
    "from keras.models import load_model\n",
    "\n",
    "try:\n",
    "    model = load_model(MODEL_FILE)\n",
    "    print(f\"found model file {MODEL_FILE}\")\n",
    "except OSError:\n",
    "    model = lstm.setup_lstm_model(train_x, train_y)\n",
    "\n",
    "print(model)\n",
    "model.save(MODEL_FILE)"
   ]
  },
  {
   "cell_type": "code",
   "execution_count": 13,
   "metadata": {},
   "outputs": [],
   "source": [
    "# predict results using the test data\n",
    "predictions = lstm.predict_sequences_multiple(model, test_x)"
   ]
  },
  {
   "cell_type": "code",
   "execution_count": 12,
   "metadata": {},
   "outputs": [
    {
     "name": "stdout",
     "output_type": "stream",
     "text": [
      "Train on 1023 samples, validate on 54 samples\n",
      "Epoch 1/1\n",
      "1023/1023 [==============================] - 1s 1ms/step - loss: 0.0011 - val_loss: 0.0014\n"
     ]
    }
   ],
   "source": [
    "# update model with test data and targets\n",
    "x_test_np = lstm.frames_to_np_array(test_x)\n",
    "y_test_np = lstm.frames_to_np_array(test_y)\n",
    "\n",
    "model.fit(\n",
    "    x_test_np,\n",
    "    y_test_np,\n",
    "    batch_size=512,\n",
    "    epochs=1,\n",
    "    validation_split=0.05\n",
    ")\n",
    "\n",
    "model.save(MODEL_FILE)"
   ]
  },
  {
   "cell_type": "code",
   "execution_count": 14,
   "metadata": {},
   "outputs": [
    {
     "name": "stdout",
     "output_type": "stream",
     "text": [
      "final sequence: [[0.0], [-0.01569164341003626], [-0.033647517245010694], [-0.024695908588278637], [-0.027644673792849295], [-0.053235743246801026], [-0.05112948238639359], [-0.05786951713969779], [-0.07103364751724506], [-0.0629771997261861], [-0.07203412142593868], [-0.07535148228108057], [-0.07619398662524357], [-0.029645621610236428], [-0.035964404191459076]]\n",
      "predicted: [-0.0606201]\n",
      "actual: [-0.017903217313464337]\n"
     ]
    },
    {
     "data": {
      "image/png": "[encoded data removed]",
      "text/plain": [
       "<Figure size 432x288 with 1 Axes>"
      ]
     },
     "metadata": {},
     "output_type": "display_data"
    },
    {
     "name": "stdout",
     "output_type": "stream",
     "text": [
      "Next predicted normalized value:\n",
      "current: 186.5100\n",
      "next predicted: 178.80084742829203\n"
     ]
    }
   ],
   "source": [
    "print(f\"final sequence: {test_x[-1]}\")\n",
    "print(f\"predicted: {predictions[-1]}\")\n",
    "print(f\"actual: {test_y[-1]}\")\n",
    "# plot the results of the last month\n",
    "# (dashed line is prediction)\n",
    "def plot_results_multiple(predicted_data, frames):\n",
    "    fig = plt.figure(facecolor='white')\n",
    "    ax = fig.add_subplot(111)\n",
    "\n",
    "    targets = [float(frame[0][0]) for frame in frames]\n",
    "    denormalized_predictions = [\n",
    "        lstm.denormalize_dim(prediction[0], targets[i])\n",
    "        for i, prediction in enumerate(predicted_data)\n",
    "    ]\n",
    "\n",
    "    ax.plot(targets, label=\"Actual\")\n",
    "\n",
    "    plt.plot(\n",
    "        denormalized_predictions,\n",
    "        label=\"Predicted\",\n",
    "        linestyle=\"dashed\"\n",
    "    )\n",
    "\n",
    "    plt.show()\n",
    "\n",
    "plot_results_multiple(predictions[-365:], test[-365:])\n",
    "\n",
    "# get next prediction:\n",
    "next_seq = frames[-1][-SEQ_LEN:]\n",
    "current_val = next_seq[-1]\n",
    "next_predicted = lstm.predict_sequences_multiple(model, [lstm.normalize_frame(next_seq)])\n",
    "print(\"Next predicted normalized value:\")\n",
    "print(f\"current: {current_val[0]}\")\n",
    "print(f\"next predicted: {lstm.denormalize_dim(next_predicted[0][0], next_seq[0][0])}\")"
   ]
  }
 ],
 "metadata": {
  "kernelspec": {
   "display_name": "Python 3",
   "language": "python",
   "name": "python3"
  },
  "language_info": {
   "codemirror_mode": {
    "name": "ipython",
    "version": 3
   },
   "file_extension": ".py",
   "mimetype": "text/x-python",
   "name": "python",
   "nbconvert_exporter": "python",
   "pygments_lexer": "ipython3",
   "version": "3.6.5"
  }
 },
 "nbformat": 4,
 "nbformat_minor": 2
}
