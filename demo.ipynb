{
 "cells": [
  {
   "cell_type": "code",
   "execution_count": 1,
   "metadata": {},
   "outputs": [
    {
     "name": "stderr",
     "output_type": "stream",
     "text": [
      "Using TensorFlow backend.\n"
     ]
    }
   ],
   "source": [
    "import lstm\n",
    "\n",
    "SEQ_LEN=15"
   ]
  },
  {
   "cell_type": "code",
   "execution_count": 2,
   "metadata": {},
   "outputs": [
    {
     "name": "stdout",
     "output_type": "stream",
     "text": [
      "last frame: [['106.2000'], ['106.1400'], ['107.5000'], ['106.3100'], ['107.9100'], ['107.7900'], ['107.8600'], ['106.9000'], ['110.0500'], ['111.7600'], ['111.2600'], ['111.6900'], ['112.0400'], ['112.8900'], ['113.0200'], ['112.2500']]\n",
      "last target frame: ['112.2500']\n"
     ]
    }
   ],
   "source": [
    "# get Microsoft's stock opening prices and create list of 15 day frames\n",
    "times = lstm.get_time_series_daily(\"MSFT\", filters=[\"1. open\"], outputsize=\"full\")\n",
    "# times = lstm.get_time_series_daily(\"MSFT\", filters=[\"4. close\", \"5. volume\"], outputsize=\"full\")\n",
    "# times are returned descending from most recent so should be reversed\n",
    "vectors = lstm.times_to_vectors(times)[::-1]\n",
    "frames = lstm.get_frames(vectors, seq_len=SEQ_LEN, with_target=True) # each frame is 15+1 (trend length + prediction target) vectors\n",
    "\n",
    "print(f\"last frame: {frames[-1]}\")\n",
    "print(f\"last target frame: {frames[-1][-1]}\")"
   ]
  },
  {
   "cell_type": "code",
   "execution_count": 3,
   "metadata": {},
   "outputs": [
    {
     "name": "stdout",
     "output_type": "stream",
     "text": [
      "training sequence 1: [[0.0], [-0.031131221719457036], [-0.03167420814479638], [-0.060633484162895934], [-0.08597285067873306], [-0.07294117647058829], [-0.09601809954751128], [-0.1120361990950226], [-0.11656108597285064], [-0.10859728506787325], [-0.07294117647058829], [-0.07638009049773753], [-0.055475113122171904], [-0.033393665158371055], [-0.03674208144796387]], target: [-0.00959276018099553]\n",
      "testing sequence 1: [[0.0], [-0.013563501849568338], [0.007398273736128447], [-0.01376900945334969], [-0.02055076037813397], [-0.02404438964241662], [-0.014591039868474986], [-0.01602959309494434], [0.0036991368680643344], [-0.004521167283189409], [-0.0055487053020960575], [0.0032881216605014085], [-0.008220304151253521], [-0.03185367858610766], [-0.022194821208384674]], target: [-0.032470201397451715]\n"
     ]
    }
   ],
   "source": [
    "# seperate normalized frames into training and testing data\n",
    "train, test = lstm.partition_data(frames, partition_coefficient=0.8)\n",
    "# split training and testing data into sequences and their targets\n",
    "train_x, train_y = lstm.seperate_xy(lstm.normalize_frames(train))\n",
    "# train_y = [[target[0]] for target in train_y]\n",
    "\n",
    "test_x, test_y = lstm.seperate_xy(lstm.normalize_frames(test))\n",
    "# test_y = [[target[0]] for target in test_y]\n",
    "\n",
    "print(f\"training sequence 1: {train_x[0]}, target: {train_y[0]}\")\n",
    "print(f\"testing sequence 1: {test_x[0]}, target: {test_y[0]}\")"
   ]
  },
  {
   "cell_type": "code",
   "execution_count": 4,
   "metadata": {
    "scrolled": false
   },
   "outputs": [
    {
     "name": "stdout",
     "output_type": "stream",
     "text": [
      "compilation time :  0.09285306930541992\n",
      "Train on 4035 samples, validate on 213 samples\n",
      "Epoch 1/1\n",
      "4035/4035 [==============================] - 2s 463us/step - loss: 0.0056 - val_loss: 0.0031\n",
      "<keras.engine.sequential.Sequential object at 0x13b6015c0>\n"
     ]
    }
   ],
   "source": [
    "# create LSTM model using the training data\n",
    "model = lstm.setup_lstm_model(train_x, train_y)\n",
    "print(model)"
   ]
  },
  {
   "cell_type": "code",
   "execution_count": 5,
   "metadata": {},
   "outputs": [],
   "source": [
    "# predict results using the test data\n",
    "predictions = lstm.predict_sequences_multiple(model, test_x)"
   ]
  },
  {
   "cell_type": "code",
   "execution_count": 25,
   "metadata": {},
   "outputs": [
    {
     "name": "stdout",
     "output_type": "stream",
     "text": [
      "final sequence: [[0.0], [-0.0005649717514124575], [0.012241054613935987], [0.001035781544256098], [0.01610169491525415], [0.014971751412429457], [0.01563088512241051], [0.006591337099811634], [0.0362523540489641], [0.05235404896421847], [0.04764595103578162], [0.051694915254237195], [0.05499058380414312], [0.0629943502824859], [0.06421845574387941]]\n",
      "predicted: [0.00149699]\n",
      "actual: [0.0569679849340865]\n"
     ]
    },
    {
     "data": {
      "image/png": "[encoded data removed]",
      "text/plain": [
       "<Figure size 432x288 with 1 Axes>"
      ]
     },
     "metadata": {},
     "output_type": "display_data"
    },
    {
     "name": "stdout",
     "output_type": "stream",
     "text": [
      "Next predicted normalized value:\n",
      "current: 112.2500\n",
      "next predicted: 106.85804743587971\n"
     ]
    }
   ],
   "source": [
    "print(f\"final sequence: {test_x[-1]}\")\n",
    "print(f\"predicted: {predictions[-1]}\")\n",
    "print(f\"actual: {test_y[-1]}\")\n",
    "# plot the results of the last month\n",
    "# (dashed line is prediction)\n",
    "lstm.plot_results_multiple(predictions[-365:], test[-365:])\n",
    "\n",
    "# get next prediction:\n",
    "next_seq = frames[-1][-SEQ_LEN:]\n",
    "current_val = next_seq[-1]\n",
    "next_predicted = lstm.predict_sequences_multiple(model, [lstm.normalize_frame(next_seq)])\n",
    "print(\"Next predicted normalized value:\")\n",
    "print(f\"current: {current_val[0]}\")\n",
    "print(f\"next predicted: {lstm.denormalize_dim(next_predicted[0][0], next_seq[0][0])}\")"
   ]
  }
 ],
 "metadata": {
  "kernelspec": {
   "display_name": "Python 3",
   "language": "python",
   "name": "python3"
  },
  "language_info": {
   "codemirror_mode": {
    "name": "ipython",
    "version": 3
   },
   "file_extension": ".py",
   "mimetype": "text/x-python",
   "name": "python",
   "nbconvert_exporter": "python",
   "pygments_lexer": "ipython3",
   "version": "3.6.5"
  }
 },
 "nbformat": 4,
 "nbformat_minor": 2
}
